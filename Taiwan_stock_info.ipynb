{
  "nbformat": 4,
  "nbformat_minor": 0,
  "metadata": {
    "colab": {
      "name": "Taiwan_stock_info.ipynb",
      "provenance": [],
      "collapsed_sections": [],
      "include_colab_link": true
    },
    "kernelspec": {
      "name": "python3",
      "display_name": "Python 3"
    }
  },
  "cells": [
    {
      "cell_type": "markdown",
      "metadata": {
        "id": "view-in-github",
        "colab_type": "text"
      },
      "source": [
        "<a href=\"https://colab.research.google.com/github/LucaChuang/Taiwan-Stock-Information/blob/main/Taiwan_stock_info.ipynb\" target=\"_parent\"><img src=\"https://colab.research.google.com/assets/colab-badge.svg\" alt=\"Open In Colab\"/></a>"
      ]
    },
    {
      "cell_type": "code",
      "metadata": {
        "colab": {
          "base_uri": "https://localhost:8080/"
        },
        "id": "OgYB-8gWrGWi",
        "outputId": "18ca9628-8a26-48f8-eb71-0e187a91c9a6"
      },
      "source": [
        "from google.colab import drive\n",
        "drive.mount('/content/drive')"
      ],
      "execution_count": 15,
      "outputs": [
        {
          "output_type": "stream",
          "text": [
            "Drive already mounted at /content/drive; to attempt to forcibly remount, call drive.mount(\"/content/drive\", force_remount=True).\n"
          ],
          "name": "stdout"
        }
      ]
    },
    {
      "cell_type": "code",
      "metadata": {
        "id": "U8zXNWMblz3M"
      },
      "source": [
        "import requests\n",
        "import time\n",
        "from bs4 import BeautifulSoup\n",
        "import pandas as pd\n",
        "import warnings\n",
        "import datetime\n",
        "import requests\n",
        "import pandas as pd\n",
        "import time\n",
        "warnings.filterwarnings(\"ignore\")"
      ],
      "execution_count": 16,
      "outputs": []
    },
    {
      "cell_type": "code",
      "metadata": {
        "id": "ivGiW0Wnl4yB"
      },
      "source": [
        "headers={\n",
        "    'user-agent' : 'Mozilla/5.0 (Windows NT 10.0; Win64; x64) AppleWebKit/537.36 (KHTML, like Gecko) Chrome/84.0.4147.125 Safari/537.36'\n",
        "    }\n",
        "res = requests.get('https://www.twse.com.tw/exchangeReport/STOCK_DAY?response=html&date=20151001&stockNo=3037', headers = headers)\n",
        "res.encoding = 'utf-8'\n",
        "#res.text"
      ],
      "execution_count": 36,
      "outputs": []
    },
    {
      "cell_type": "code",
      "metadata": {
        "id": "ntnyuqjOm6vl"
      },
      "source": [
        "from datetime import date,timedelta\n",
        "from dateutil import rrule\n",
        "def till_now(start_month):\n",
        "    b_month = date(*[int(x) for x in start_month.split('-')])\n",
        "    now = datetime.datetime.now().strftime(\"%Y-%m-%d\")         \n",
        "    e_month = date(*[int(x) for x in now.split('-')])\n",
        "    result = []\n",
        "    for dt in rrule.rrule(rrule.MONTHLY, dtstart=b_month, until=e_month):\n",
        "              result += [int(dt.strftime('%Y%m%d'))]\n",
        "    return result\n"
      ],
      "execution_count": 38,
      "outputs": []
    },
    {
      "cell_type": "code",
      "metadata": {
        "id": "oXMZVSLLtSK4"
      },
      "source": [
        "def stockinfo(begin_date, stock_no):\r\n",
        "  dates = test = till_now(begin_date) # 2021-01-01\r\n",
        "  stock_no = stock_no\r\n",
        "  df_stock_info =pd.DataFrame()\r\n",
        "  url_template = \"https://www.twse.com.tw/exchangeReport/STOCK_DAY?response=html&date={}&stockNo={}\"\r\n",
        "  for date in dates :\r\n",
        "    time.sleep(3)\r\n",
        "    url = url_template.format(date, stock_no)\r\n",
        "    data = pd.read_html(requests.get(url).text)[0]\r\n",
        "    data.columns = data.columns.droplevel(0)\r\n",
        "    df_stock_info = pd.concat([df_stock_info,data])\r\n",
        "    df_stock_info = df_stock_info.reset_index(drop = True)\r\n",
        "    print(\"目前進度: \"+str(date))  \r\n",
        "  df_temp = pd.DataFrame(df_stock_info[\"日期\"].str.split(\"/\").tolist(),\r\n",
        "                               columns = ['year','mon', \"date\"])\r\n",
        "  df_temp['year'] = df_temp['year'].astype(\"int32\")+1911\r\n",
        "  df_stock_info[\"日期\"] = df_temp['year'].astype(\"string\") + \"-\" + df_temp['mon'] + \"-\" + df_temp['date']\r\n",
        "  file_name = str(stock_no)+\" stock info from \" + str(begin_date)\r\n",
        "  df_stock_info.to_csv('/content/drive/My Drive/'+file_name+\".csv\", index=False)        #匯出csv檔\r\n",
        "  df_stock_info.to_excel('/content/drive/My Drive/'+file_name+\".xlsx\", index=False)     #匯出excel檔\r\n",
        "  return df_stock_info\r\n"
      ],
      "execution_count": 50,
      "outputs": []
    },
    {
      "cell_type": "code",
      "metadata": {
        "colab": {
          "base_uri": "https://localhost:8080/"
        },
        "id": "HyjixkLS2MM6",
        "outputId": "500d7adb-8756-4db1-8b4c-670ddb5d52be"
      },
      "source": [
        "if __name__ == '__main__':\r\n",
        "    # -------- configurable parameter -------- #\r\n",
        "    \r\n",
        "    begin_date = \"2020-11-01\"           # 設定起始日期 (\"2020-11-01\")\r\n",
        "    stock_no = 2330                   # 設定股票代碼 (2330)\r\n",
        "    # ---------------------------------------- #\r\n",
        "    stockinfo(begin_date, stock_no)\r\n",
        "\r\n",
        "    print('\\nfinish!')\r\n",
        "\r\n",
        "\r\n"
      ],
      "execution_count": 51,
      "outputs": [
        {
          "output_type": "stream",
          "text": [
            "目前進度: 20201101\n",
            "目前進度: 20201201\n",
            "目前進度: 20210101\n",
            "目前進度: 20210201\n",
            "目前進度: 20210301\n",
            "\n",
            "finish!\n"
          ],
          "name": "stdout"
        }
      ]
    }
  ]
}